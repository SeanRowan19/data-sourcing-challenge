{
 "cells": [
  {
   "cell_type": "markdown",
   "metadata": {},
   "source": [
    "### Import Required Libraries and Set Up Environment Variables"
   ]
  },
  {
   "cell_type": "code",
   "execution_count": 8,
   "metadata": {},
   "outputs": [],
   "source": [
    "# Dependencies\n",
    "import requests\n",
    "import time\n",
    "from dotenv import load_dotenv\n",
    "import os\n",
    "import pandas as pd\n",
    "import json\n",
    "from datetime import datetime\n"
   ]
  },
  {
   "cell_type": "markdown",
   "metadata": {},
   "source": [
    "### CME Data"
   ]
  },
  {
   "cell_type": "code",
   "execution_count": 9,
   "metadata": {},
   "outputs": [
    {
     "name": "stdout",
     "output_type": "stream",
     "text": [
      "ZPQE9w3kpedG7bOEzA2sfLxck7f2NULWvgWiaduo\n"
     ]
    }
   ],
   "source": [
    "## Load the NASA_API_KEY from the env file\n",
    "load_dotenv()\n",
    "NASA_API_KEY = os.getenv('NASA_API_KEY')\n",
    "print(NASA_API_KEY)"
   ]
  },
  {
   "cell_type": "code",
   "execution_count": 7,
   "metadata": {},
   "outputs": [
    {
     "name": "stdout",
     "output_type": "stream",
     "text": [
      "https://api.nasa.gov/DONKI/CME?startDate=2013-05-01&endDate=2024-05-01&api_key=ZPQE9w3kpedG7bOEzA2sfLxck7f2NULWvgWiaduo\n"
     ]
    }
   ],
   "source": [
    "# Set the base URL to NASA's DONKI API:\n",
    "base_url = \"https://api.nasa.gov/DONKI/\"\n",
    "\n",
    "# Set the specifier for CMEs:\n",
    "CME = \"CME\"\n",
    "\n",
    "# Search for CMEs published between a begin and end date\n",
    "startDate = \"2013-05-01\"\n",
    "end_date   = \"2024-05-01\"\n",
    "\n",
    "# Build URL for CME\n",
    "cme_url = f\"{base_url}CME?startDate={startDate}&endDate={end_date}&api_key={NASA_API_KEY}\"\n",
    "print(cme_url)"
   ]
  },
  {
   "cell_type": "code",
   "execution_count": 6,
   "metadata": {},
   "outputs": [
    {
     "ename": "KeyboardInterrupt",
     "evalue": "",
     "output_type": "error",
     "traceback": [
      "\u001b[0;31m---------------------------------------------------------------------------\u001b[0m",
      "\u001b[0;31mKeyboardInterrupt\u001b[0m                         Traceback (most recent call last)",
      "Cell \u001b[0;32mIn[6], line 2\u001b[0m\n\u001b[1;32m      1\u001b[0m \u001b[38;5;66;03m# Make a \"GET\" request for the CME URL and store it in a variable named cme_response\u001b[39;00m\n\u001b[0;32m----> 2\u001b[0m cme_response \u001b[38;5;241m=\u001b[39m requests\u001b[38;5;241m.\u001b[39mget(cme_url)\n",
      "File \u001b[0;32m/opt/anaconda3/lib/python3.12/site-packages/requests/api.py:73\u001b[0m, in \u001b[0;36mget\u001b[0;34m(url, params, **kwargs)\u001b[0m\n\u001b[1;32m     62\u001b[0m \u001b[38;5;28;01mdef\u001b[39;00m \u001b[38;5;21mget\u001b[39m(url, params\u001b[38;5;241m=\u001b[39m\u001b[38;5;28;01mNone\u001b[39;00m, \u001b[38;5;241m*\u001b[39m\u001b[38;5;241m*\u001b[39mkwargs):\n\u001b[1;32m     63\u001b[0m \u001b[38;5;250m    \u001b[39m\u001b[38;5;124mr\u001b[39m\u001b[38;5;124;03m\"\"\"Sends a GET request.\u001b[39;00m\n\u001b[1;32m     64\u001b[0m \n\u001b[1;32m     65\u001b[0m \u001b[38;5;124;03m    :param url: URL for the new :class:`Request` object.\u001b[39;00m\n\u001b[0;32m   (...)\u001b[0m\n\u001b[1;32m     70\u001b[0m \u001b[38;5;124;03m    :rtype: requests.Response\u001b[39;00m\n\u001b[1;32m     71\u001b[0m \u001b[38;5;124;03m    \"\"\"\u001b[39;00m\n\u001b[0;32m---> 73\u001b[0m     \u001b[38;5;28;01mreturn\u001b[39;00m request(\u001b[38;5;124m\"\u001b[39m\u001b[38;5;124mget\u001b[39m\u001b[38;5;124m\"\u001b[39m, url, params\u001b[38;5;241m=\u001b[39mparams, \u001b[38;5;241m*\u001b[39m\u001b[38;5;241m*\u001b[39mkwargs)\n",
      "File \u001b[0;32m/opt/anaconda3/lib/python3.12/site-packages/requests/api.py:59\u001b[0m, in \u001b[0;36mrequest\u001b[0;34m(method, url, **kwargs)\u001b[0m\n\u001b[1;32m     55\u001b[0m \u001b[38;5;66;03m# By using the 'with' statement we are sure the session is closed, thus we\u001b[39;00m\n\u001b[1;32m     56\u001b[0m \u001b[38;5;66;03m# avoid leaving sockets open which can trigger a ResourceWarning in some\u001b[39;00m\n\u001b[1;32m     57\u001b[0m \u001b[38;5;66;03m# cases, and look like a memory leak in others.\u001b[39;00m\n\u001b[1;32m     58\u001b[0m \u001b[38;5;28;01mwith\u001b[39;00m sessions\u001b[38;5;241m.\u001b[39mSession() \u001b[38;5;28;01mas\u001b[39;00m session:\n\u001b[0;32m---> 59\u001b[0m     \u001b[38;5;28;01mreturn\u001b[39;00m session\u001b[38;5;241m.\u001b[39mrequest(method\u001b[38;5;241m=\u001b[39mmethod, url\u001b[38;5;241m=\u001b[39murl, \u001b[38;5;241m*\u001b[39m\u001b[38;5;241m*\u001b[39mkwargs)\n",
      "File \u001b[0;32m/opt/anaconda3/lib/python3.12/site-packages/requests/sessions.py:589\u001b[0m, in \u001b[0;36mSession.request\u001b[0;34m(self, method, url, params, data, headers, cookies, files, auth, timeout, allow_redirects, proxies, hooks, stream, verify, cert, json)\u001b[0m\n\u001b[1;32m    584\u001b[0m send_kwargs \u001b[38;5;241m=\u001b[39m {\n\u001b[1;32m    585\u001b[0m     \u001b[38;5;124m\"\u001b[39m\u001b[38;5;124mtimeout\u001b[39m\u001b[38;5;124m\"\u001b[39m: timeout,\n\u001b[1;32m    586\u001b[0m     \u001b[38;5;124m\"\u001b[39m\u001b[38;5;124mallow_redirects\u001b[39m\u001b[38;5;124m\"\u001b[39m: allow_redirects,\n\u001b[1;32m    587\u001b[0m }\n\u001b[1;32m    588\u001b[0m send_kwargs\u001b[38;5;241m.\u001b[39mupdate(settings)\n\u001b[0;32m--> 589\u001b[0m resp \u001b[38;5;241m=\u001b[39m \u001b[38;5;28mself\u001b[39m\u001b[38;5;241m.\u001b[39msend(prep, \u001b[38;5;241m*\u001b[39m\u001b[38;5;241m*\u001b[39msend_kwargs)\n\u001b[1;32m    591\u001b[0m \u001b[38;5;28;01mreturn\u001b[39;00m resp\n",
      "File \u001b[0;32m/opt/anaconda3/lib/python3.12/site-packages/requests/sessions.py:703\u001b[0m, in \u001b[0;36mSession.send\u001b[0;34m(self, request, **kwargs)\u001b[0m\n\u001b[1;32m    700\u001b[0m start \u001b[38;5;241m=\u001b[39m preferred_clock()\n\u001b[1;32m    702\u001b[0m \u001b[38;5;66;03m# Send the request\u001b[39;00m\n\u001b[0;32m--> 703\u001b[0m r \u001b[38;5;241m=\u001b[39m adapter\u001b[38;5;241m.\u001b[39msend(request, \u001b[38;5;241m*\u001b[39m\u001b[38;5;241m*\u001b[39mkwargs)\n\u001b[1;32m    705\u001b[0m \u001b[38;5;66;03m# Total elapsed time of the request (approximately)\u001b[39;00m\n\u001b[1;32m    706\u001b[0m elapsed \u001b[38;5;241m=\u001b[39m preferred_clock() \u001b[38;5;241m-\u001b[39m start\n",
      "File \u001b[0;32m/opt/anaconda3/lib/python3.12/site-packages/requests/adapters.py:589\u001b[0m, in \u001b[0;36mHTTPAdapter.send\u001b[0;34m(self, request, stream, timeout, verify, cert, proxies)\u001b[0m\n\u001b[1;32m    586\u001b[0m     timeout \u001b[38;5;241m=\u001b[39m TimeoutSauce(connect\u001b[38;5;241m=\u001b[39mtimeout, read\u001b[38;5;241m=\u001b[39mtimeout)\n\u001b[1;32m    588\u001b[0m \u001b[38;5;28;01mtry\u001b[39;00m:\n\u001b[0;32m--> 589\u001b[0m     resp \u001b[38;5;241m=\u001b[39m conn\u001b[38;5;241m.\u001b[39murlopen(\n\u001b[1;32m    590\u001b[0m         method\u001b[38;5;241m=\u001b[39mrequest\u001b[38;5;241m.\u001b[39mmethod,\n\u001b[1;32m    591\u001b[0m         url\u001b[38;5;241m=\u001b[39murl,\n\u001b[1;32m    592\u001b[0m         body\u001b[38;5;241m=\u001b[39mrequest\u001b[38;5;241m.\u001b[39mbody,\n\u001b[1;32m    593\u001b[0m         headers\u001b[38;5;241m=\u001b[39mrequest\u001b[38;5;241m.\u001b[39mheaders,\n\u001b[1;32m    594\u001b[0m         redirect\u001b[38;5;241m=\u001b[39m\u001b[38;5;28;01mFalse\u001b[39;00m,\n\u001b[1;32m    595\u001b[0m         assert_same_host\u001b[38;5;241m=\u001b[39m\u001b[38;5;28;01mFalse\u001b[39;00m,\n\u001b[1;32m    596\u001b[0m         preload_content\u001b[38;5;241m=\u001b[39m\u001b[38;5;28;01mFalse\u001b[39;00m,\n\u001b[1;32m    597\u001b[0m         decode_content\u001b[38;5;241m=\u001b[39m\u001b[38;5;28;01mFalse\u001b[39;00m,\n\u001b[1;32m    598\u001b[0m         retries\u001b[38;5;241m=\u001b[39m\u001b[38;5;28mself\u001b[39m\u001b[38;5;241m.\u001b[39mmax_retries,\n\u001b[1;32m    599\u001b[0m         timeout\u001b[38;5;241m=\u001b[39mtimeout,\n\u001b[1;32m    600\u001b[0m         chunked\u001b[38;5;241m=\u001b[39mchunked,\n\u001b[1;32m    601\u001b[0m     )\n\u001b[1;32m    603\u001b[0m \u001b[38;5;28;01mexcept\u001b[39;00m (ProtocolError, \u001b[38;5;167;01mOSError\u001b[39;00m) \u001b[38;5;28;01mas\u001b[39;00m err:\n\u001b[1;32m    604\u001b[0m     \u001b[38;5;28;01mraise\u001b[39;00m \u001b[38;5;167;01mConnectionError\u001b[39;00m(err, request\u001b[38;5;241m=\u001b[39mrequest)\n",
      "File \u001b[0;32m/opt/anaconda3/lib/python3.12/site-packages/urllib3/connectionpool.py:789\u001b[0m, in \u001b[0;36mHTTPConnectionPool.urlopen\u001b[0;34m(self, method, url, body, headers, retries, redirect, assert_same_host, timeout, pool_timeout, release_conn, chunked, body_pos, preload_content, decode_content, **response_kw)\u001b[0m\n\u001b[1;32m    786\u001b[0m response_conn \u001b[38;5;241m=\u001b[39m conn \u001b[38;5;28;01mif\u001b[39;00m \u001b[38;5;129;01mnot\u001b[39;00m release_conn \u001b[38;5;28;01melse\u001b[39;00m \u001b[38;5;28;01mNone\u001b[39;00m\n\u001b[1;32m    788\u001b[0m \u001b[38;5;66;03m# Make the request on the HTTPConnection object\u001b[39;00m\n\u001b[0;32m--> 789\u001b[0m response \u001b[38;5;241m=\u001b[39m \u001b[38;5;28mself\u001b[39m\u001b[38;5;241m.\u001b[39m_make_request(\n\u001b[1;32m    790\u001b[0m     conn,\n\u001b[1;32m    791\u001b[0m     method,\n\u001b[1;32m    792\u001b[0m     url,\n\u001b[1;32m    793\u001b[0m     timeout\u001b[38;5;241m=\u001b[39mtimeout_obj,\n\u001b[1;32m    794\u001b[0m     body\u001b[38;5;241m=\u001b[39mbody,\n\u001b[1;32m    795\u001b[0m     headers\u001b[38;5;241m=\u001b[39mheaders,\n\u001b[1;32m    796\u001b[0m     chunked\u001b[38;5;241m=\u001b[39mchunked,\n\u001b[1;32m    797\u001b[0m     retries\u001b[38;5;241m=\u001b[39mretries,\n\u001b[1;32m    798\u001b[0m     response_conn\u001b[38;5;241m=\u001b[39mresponse_conn,\n\u001b[1;32m    799\u001b[0m     preload_content\u001b[38;5;241m=\u001b[39mpreload_content,\n\u001b[1;32m    800\u001b[0m     decode_content\u001b[38;5;241m=\u001b[39mdecode_content,\n\u001b[1;32m    801\u001b[0m     \u001b[38;5;241m*\u001b[39m\u001b[38;5;241m*\u001b[39mresponse_kw,\n\u001b[1;32m    802\u001b[0m )\n\u001b[1;32m    804\u001b[0m \u001b[38;5;66;03m# Everything went great!\u001b[39;00m\n\u001b[1;32m    805\u001b[0m clean_exit \u001b[38;5;241m=\u001b[39m \u001b[38;5;28;01mTrue\u001b[39;00m\n",
      "File \u001b[0;32m/opt/anaconda3/lib/python3.12/site-packages/urllib3/connectionpool.py:536\u001b[0m, in \u001b[0;36mHTTPConnectionPool._make_request\u001b[0;34m(self, conn, method, url, body, headers, retries, timeout, chunked, response_conn, preload_content, decode_content, enforce_content_length)\u001b[0m\n\u001b[1;32m    534\u001b[0m \u001b[38;5;66;03m# Receive the response from the server\u001b[39;00m\n\u001b[1;32m    535\u001b[0m \u001b[38;5;28;01mtry\u001b[39;00m:\n\u001b[0;32m--> 536\u001b[0m     response \u001b[38;5;241m=\u001b[39m conn\u001b[38;5;241m.\u001b[39mgetresponse()\n\u001b[1;32m    537\u001b[0m \u001b[38;5;28;01mexcept\u001b[39;00m (BaseSSLError, \u001b[38;5;167;01mOSError\u001b[39;00m) \u001b[38;5;28;01mas\u001b[39;00m e:\n\u001b[1;32m    538\u001b[0m     \u001b[38;5;28mself\u001b[39m\u001b[38;5;241m.\u001b[39m_raise_timeout(err\u001b[38;5;241m=\u001b[39me, url\u001b[38;5;241m=\u001b[39murl, timeout_value\u001b[38;5;241m=\u001b[39mread_timeout)\n",
      "File \u001b[0;32m/opt/anaconda3/lib/python3.12/site-packages/urllib3/connection.py:464\u001b[0m, in \u001b[0;36mHTTPConnection.getresponse\u001b[0;34m(self)\u001b[0m\n\u001b[1;32m    461\u001b[0m \u001b[38;5;28;01mfrom\u001b[39;00m \u001b[38;5;21;01m.\u001b[39;00m\u001b[38;5;21;01mresponse\u001b[39;00m \u001b[38;5;28;01mimport\u001b[39;00m HTTPResponse\n\u001b[1;32m    463\u001b[0m \u001b[38;5;66;03m# Get the response from http.client.HTTPConnection\u001b[39;00m\n\u001b[0;32m--> 464\u001b[0m httplib_response \u001b[38;5;241m=\u001b[39m \u001b[38;5;28msuper\u001b[39m()\u001b[38;5;241m.\u001b[39mgetresponse()\n\u001b[1;32m    466\u001b[0m \u001b[38;5;28;01mtry\u001b[39;00m:\n\u001b[1;32m    467\u001b[0m     assert_header_parsing(httplib_response\u001b[38;5;241m.\u001b[39mmsg)\n",
      "File \u001b[0;32m/opt/anaconda3/lib/python3.12/http/client.py:1428\u001b[0m, in \u001b[0;36mHTTPConnection.getresponse\u001b[0;34m(self)\u001b[0m\n\u001b[1;32m   1426\u001b[0m \u001b[38;5;28;01mtry\u001b[39;00m:\n\u001b[1;32m   1427\u001b[0m     \u001b[38;5;28;01mtry\u001b[39;00m:\n\u001b[0;32m-> 1428\u001b[0m         response\u001b[38;5;241m.\u001b[39mbegin()\n\u001b[1;32m   1429\u001b[0m     \u001b[38;5;28;01mexcept\u001b[39;00m \u001b[38;5;167;01mConnectionError\u001b[39;00m:\n\u001b[1;32m   1430\u001b[0m         \u001b[38;5;28mself\u001b[39m\u001b[38;5;241m.\u001b[39mclose()\n",
      "File \u001b[0;32m/opt/anaconda3/lib/python3.12/http/client.py:331\u001b[0m, in \u001b[0;36mHTTPResponse.begin\u001b[0;34m(self)\u001b[0m\n\u001b[1;32m    329\u001b[0m \u001b[38;5;66;03m# read until we get a non-100 response\u001b[39;00m\n\u001b[1;32m    330\u001b[0m \u001b[38;5;28;01mwhile\u001b[39;00m \u001b[38;5;28;01mTrue\u001b[39;00m:\n\u001b[0;32m--> 331\u001b[0m     version, status, reason \u001b[38;5;241m=\u001b[39m \u001b[38;5;28mself\u001b[39m\u001b[38;5;241m.\u001b[39m_read_status()\n\u001b[1;32m    332\u001b[0m     \u001b[38;5;28;01mif\u001b[39;00m status \u001b[38;5;241m!=\u001b[39m CONTINUE:\n\u001b[1;32m    333\u001b[0m         \u001b[38;5;28;01mbreak\u001b[39;00m\n",
      "File \u001b[0;32m/opt/anaconda3/lib/python3.12/http/client.py:292\u001b[0m, in \u001b[0;36mHTTPResponse._read_status\u001b[0;34m(self)\u001b[0m\n\u001b[1;32m    291\u001b[0m \u001b[38;5;28;01mdef\u001b[39;00m \u001b[38;5;21m_read_status\u001b[39m(\u001b[38;5;28mself\u001b[39m):\n\u001b[0;32m--> 292\u001b[0m     line \u001b[38;5;241m=\u001b[39m \u001b[38;5;28mstr\u001b[39m(\u001b[38;5;28mself\u001b[39m\u001b[38;5;241m.\u001b[39mfp\u001b[38;5;241m.\u001b[39mreadline(_MAXLINE \u001b[38;5;241m+\u001b[39m \u001b[38;5;241m1\u001b[39m), \u001b[38;5;124m\"\u001b[39m\u001b[38;5;124miso-8859-1\u001b[39m\u001b[38;5;124m\"\u001b[39m)\n\u001b[1;32m    293\u001b[0m     \u001b[38;5;28;01mif\u001b[39;00m \u001b[38;5;28mlen\u001b[39m(line) \u001b[38;5;241m>\u001b[39m _MAXLINE:\n\u001b[1;32m    294\u001b[0m         \u001b[38;5;28;01mraise\u001b[39;00m LineTooLong(\u001b[38;5;124m\"\u001b[39m\u001b[38;5;124mstatus line\u001b[39m\u001b[38;5;124m\"\u001b[39m)\n",
      "File \u001b[0;32m/opt/anaconda3/lib/python3.12/socket.py:708\u001b[0m, in \u001b[0;36mSocketIO.readinto\u001b[0;34m(self, b)\u001b[0m\n\u001b[1;32m    706\u001b[0m \u001b[38;5;28;01mwhile\u001b[39;00m \u001b[38;5;28;01mTrue\u001b[39;00m:\n\u001b[1;32m    707\u001b[0m     \u001b[38;5;28;01mtry\u001b[39;00m:\n\u001b[0;32m--> 708\u001b[0m         \u001b[38;5;28;01mreturn\u001b[39;00m \u001b[38;5;28mself\u001b[39m\u001b[38;5;241m.\u001b[39m_sock\u001b[38;5;241m.\u001b[39mrecv_into(b)\n\u001b[1;32m    709\u001b[0m     \u001b[38;5;28;01mexcept\u001b[39;00m timeout:\n\u001b[1;32m    710\u001b[0m         \u001b[38;5;28mself\u001b[39m\u001b[38;5;241m.\u001b[39m_timeout_occurred \u001b[38;5;241m=\u001b[39m \u001b[38;5;28;01mTrue\u001b[39;00m\n",
      "File \u001b[0;32m/opt/anaconda3/lib/python3.12/ssl.py:1252\u001b[0m, in \u001b[0;36mSSLSocket.recv_into\u001b[0;34m(self, buffer, nbytes, flags)\u001b[0m\n\u001b[1;32m   1248\u001b[0m     \u001b[38;5;28;01mif\u001b[39;00m flags \u001b[38;5;241m!=\u001b[39m \u001b[38;5;241m0\u001b[39m:\n\u001b[1;32m   1249\u001b[0m         \u001b[38;5;28;01mraise\u001b[39;00m \u001b[38;5;167;01mValueError\u001b[39;00m(\n\u001b[1;32m   1250\u001b[0m           \u001b[38;5;124m\"\u001b[39m\u001b[38;5;124mnon-zero flags not allowed in calls to recv_into() on \u001b[39m\u001b[38;5;132;01m%s\u001b[39;00m\u001b[38;5;124m\"\u001b[39m \u001b[38;5;241m%\u001b[39m\n\u001b[1;32m   1251\u001b[0m           \u001b[38;5;28mself\u001b[39m\u001b[38;5;241m.\u001b[39m\u001b[38;5;18m__class__\u001b[39m)\n\u001b[0;32m-> 1252\u001b[0m     \u001b[38;5;28;01mreturn\u001b[39;00m \u001b[38;5;28mself\u001b[39m\u001b[38;5;241m.\u001b[39mread(nbytes, buffer)\n\u001b[1;32m   1253\u001b[0m \u001b[38;5;28;01melse\u001b[39;00m:\n\u001b[1;32m   1254\u001b[0m     \u001b[38;5;28;01mreturn\u001b[39;00m \u001b[38;5;28msuper\u001b[39m()\u001b[38;5;241m.\u001b[39mrecv_into(buffer, nbytes, flags)\n",
      "File \u001b[0;32m/opt/anaconda3/lib/python3.12/ssl.py:1104\u001b[0m, in \u001b[0;36mSSLSocket.read\u001b[0;34m(self, len, buffer)\u001b[0m\n\u001b[1;32m   1102\u001b[0m \u001b[38;5;28;01mtry\u001b[39;00m:\n\u001b[1;32m   1103\u001b[0m     \u001b[38;5;28;01mif\u001b[39;00m buffer \u001b[38;5;129;01mis\u001b[39;00m \u001b[38;5;129;01mnot\u001b[39;00m \u001b[38;5;28;01mNone\u001b[39;00m:\n\u001b[0;32m-> 1104\u001b[0m         \u001b[38;5;28;01mreturn\u001b[39;00m \u001b[38;5;28mself\u001b[39m\u001b[38;5;241m.\u001b[39m_sslobj\u001b[38;5;241m.\u001b[39mread(\u001b[38;5;28mlen\u001b[39m, buffer)\n\u001b[1;32m   1105\u001b[0m     \u001b[38;5;28;01melse\u001b[39;00m:\n\u001b[1;32m   1106\u001b[0m         \u001b[38;5;28;01mreturn\u001b[39;00m \u001b[38;5;28mself\u001b[39m\u001b[38;5;241m.\u001b[39m_sslobj\u001b[38;5;241m.\u001b[39mread(\u001b[38;5;28mlen\u001b[39m)\n",
      "\u001b[0;31mKeyboardInterrupt\u001b[0m: "
     ]
    }
   ],
   "source": [
    "# Make a \"GET\" request for the CME URL and store it in a variable named cme_response\n",
    "cme_response = requests.get(cme_url)"
   ]
  },
  {
   "cell_type": "code",
   "execution_count": 10,
   "metadata": {},
   "outputs": [
    {
     "ename": "JSONDecodeError",
     "evalue": "Expecting value: line 1 column 1 (char 0)",
     "output_type": "error",
     "traceback": [
      "\u001b[0;31m---------------------------------------------------------------------------\u001b[0m",
      "\u001b[0;31mJSONDecodeError\u001b[0m                           Traceback (most recent call last)",
      "File \u001b[0;32m/opt/anaconda3/lib/python3.12/site-packages/requests/models.py:974\u001b[0m, in \u001b[0;36mResponse.json\u001b[0;34m(self, **kwargs)\u001b[0m\n\u001b[1;32m    973\u001b[0m \u001b[38;5;28;01mtry\u001b[39;00m:\n\u001b[0;32m--> 974\u001b[0m     \u001b[38;5;28;01mreturn\u001b[39;00m complexjson\u001b[38;5;241m.\u001b[39mloads(\u001b[38;5;28mself\u001b[39m\u001b[38;5;241m.\u001b[39mtext, \u001b[38;5;241m*\u001b[39m\u001b[38;5;241m*\u001b[39mkwargs)\n\u001b[1;32m    975\u001b[0m \u001b[38;5;28;01mexcept\u001b[39;00m JSONDecodeError \u001b[38;5;28;01mas\u001b[39;00m e:\n\u001b[1;32m    976\u001b[0m     \u001b[38;5;66;03m# Catch JSON-related errors and raise as requests.JSONDecodeError\u001b[39;00m\n\u001b[1;32m    977\u001b[0m     \u001b[38;5;66;03m# This aliases json.JSONDecodeError and simplejson.JSONDecodeError\u001b[39;00m\n",
      "File \u001b[0;32m/opt/anaconda3/lib/python3.12/json/__init__.py:346\u001b[0m, in \u001b[0;36mloads\u001b[0;34m(s, cls, object_hook, parse_float, parse_int, parse_constant, object_pairs_hook, **kw)\u001b[0m\n\u001b[1;32m    343\u001b[0m \u001b[38;5;28;01mif\u001b[39;00m (\u001b[38;5;28mcls\u001b[39m \u001b[38;5;129;01mis\u001b[39;00m \u001b[38;5;28;01mNone\u001b[39;00m \u001b[38;5;129;01mand\u001b[39;00m object_hook \u001b[38;5;129;01mis\u001b[39;00m \u001b[38;5;28;01mNone\u001b[39;00m \u001b[38;5;129;01mand\u001b[39;00m\n\u001b[1;32m    344\u001b[0m         parse_int \u001b[38;5;129;01mis\u001b[39;00m \u001b[38;5;28;01mNone\u001b[39;00m \u001b[38;5;129;01mand\u001b[39;00m parse_float \u001b[38;5;129;01mis\u001b[39;00m \u001b[38;5;28;01mNone\u001b[39;00m \u001b[38;5;129;01mand\u001b[39;00m\n\u001b[1;32m    345\u001b[0m         parse_constant \u001b[38;5;129;01mis\u001b[39;00m \u001b[38;5;28;01mNone\u001b[39;00m \u001b[38;5;129;01mand\u001b[39;00m object_pairs_hook \u001b[38;5;129;01mis\u001b[39;00m \u001b[38;5;28;01mNone\u001b[39;00m \u001b[38;5;129;01mand\u001b[39;00m \u001b[38;5;129;01mnot\u001b[39;00m kw):\n\u001b[0;32m--> 346\u001b[0m     \u001b[38;5;28;01mreturn\u001b[39;00m _default_decoder\u001b[38;5;241m.\u001b[39mdecode(s)\n\u001b[1;32m    347\u001b[0m \u001b[38;5;28;01mif\u001b[39;00m \u001b[38;5;28mcls\u001b[39m \u001b[38;5;129;01mis\u001b[39;00m \u001b[38;5;28;01mNone\u001b[39;00m:\n",
      "File \u001b[0;32m/opt/anaconda3/lib/python3.12/json/decoder.py:337\u001b[0m, in \u001b[0;36mJSONDecoder.decode\u001b[0;34m(self, s, _w)\u001b[0m\n\u001b[1;32m    333\u001b[0m \u001b[38;5;250m\u001b[39m\u001b[38;5;124;03m\"\"\"Return the Python representation of ``s`` (a ``str`` instance\u001b[39;00m\n\u001b[1;32m    334\u001b[0m \u001b[38;5;124;03mcontaining a JSON document).\u001b[39;00m\n\u001b[1;32m    335\u001b[0m \n\u001b[1;32m    336\u001b[0m \u001b[38;5;124;03m\"\"\"\u001b[39;00m\n\u001b[0;32m--> 337\u001b[0m obj, end \u001b[38;5;241m=\u001b[39m \u001b[38;5;28mself\u001b[39m\u001b[38;5;241m.\u001b[39mraw_decode(s, idx\u001b[38;5;241m=\u001b[39m_w(s, \u001b[38;5;241m0\u001b[39m)\u001b[38;5;241m.\u001b[39mend())\n\u001b[1;32m    338\u001b[0m end \u001b[38;5;241m=\u001b[39m _w(s, end)\u001b[38;5;241m.\u001b[39mend()\n",
      "File \u001b[0;32m/opt/anaconda3/lib/python3.12/json/decoder.py:355\u001b[0m, in \u001b[0;36mJSONDecoder.raw_decode\u001b[0;34m(self, s, idx)\u001b[0m\n\u001b[1;32m    354\u001b[0m \u001b[38;5;28;01mexcept\u001b[39;00m \u001b[38;5;167;01mStopIteration\u001b[39;00m \u001b[38;5;28;01mas\u001b[39;00m err:\n\u001b[0;32m--> 355\u001b[0m     \u001b[38;5;28;01mraise\u001b[39;00m JSONDecodeError(\u001b[38;5;124m\"\u001b[39m\u001b[38;5;124mExpecting value\u001b[39m\u001b[38;5;124m\"\u001b[39m, s, err\u001b[38;5;241m.\u001b[39mvalue) \u001b[38;5;28;01mfrom\u001b[39;00m \u001b[38;5;28;01mNone\u001b[39;00m\n\u001b[1;32m    356\u001b[0m \u001b[38;5;28;01mreturn\u001b[39;00m obj, end\n",
      "\u001b[0;31mJSONDecodeError\u001b[0m: Expecting value: line 1 column 1 (char 0)",
      "\nDuring handling of the above exception, another exception occurred:\n",
      "\u001b[0;31mJSONDecodeError\u001b[0m                           Traceback (most recent call last)",
      "Cell \u001b[0;32mIn[10], line 2\u001b[0m\n\u001b[1;32m      1\u001b[0m \u001b[38;5;66;03m# Convert the response variable to json and store it as a variable named cme_json\u001b[39;00m\n\u001b[0;32m----> 2\u001b[0m cme_json \u001b[38;5;241m=\u001b[39m response_cme\u001b[38;5;241m.\u001b[39mjson()\n",
      "File \u001b[0;32m/opt/anaconda3/lib/python3.12/site-packages/requests/models.py:978\u001b[0m, in \u001b[0;36mResponse.json\u001b[0;34m(self, **kwargs)\u001b[0m\n\u001b[1;32m    974\u001b[0m     \u001b[38;5;28;01mreturn\u001b[39;00m complexjson\u001b[38;5;241m.\u001b[39mloads(\u001b[38;5;28mself\u001b[39m\u001b[38;5;241m.\u001b[39mtext, \u001b[38;5;241m*\u001b[39m\u001b[38;5;241m*\u001b[39mkwargs)\n\u001b[1;32m    975\u001b[0m \u001b[38;5;28;01mexcept\u001b[39;00m JSONDecodeError \u001b[38;5;28;01mas\u001b[39;00m e:\n\u001b[1;32m    976\u001b[0m     \u001b[38;5;66;03m# Catch JSON-related errors and raise as requests.JSONDecodeError\u001b[39;00m\n\u001b[1;32m    977\u001b[0m     \u001b[38;5;66;03m# This aliases json.JSONDecodeError and simplejson.JSONDecodeError\u001b[39;00m\n\u001b[0;32m--> 978\u001b[0m     \u001b[38;5;28;01mraise\u001b[39;00m RequestsJSONDecodeError(e\u001b[38;5;241m.\u001b[39mmsg, e\u001b[38;5;241m.\u001b[39mdoc, e\u001b[38;5;241m.\u001b[39mpos)\n",
      "\u001b[0;31mJSONDecodeError\u001b[0m: Expecting value: line 1 column 1 (char 0)"
     ]
    }
   ],
   "source": [
    "# Convert the response variable to json and store it as a variable named cme_json\n",
    "cme_json = response_cme.json()"
   ]
  },
  {
   "cell_type": "code",
   "execution_count": 5,
   "metadata": {
    "scrolled": true
   },
   "outputs": [
    {
     "name": "stdout",
     "output_type": "stream",
     "text": [
      "[\n",
      "    {\n",
      "        \"activityID\": \"2013-05-01T03:12:00-CME-001\",\n",
      "        \"catalog\": \"M2M_CATALOG\",\n",
      "        \"startTime\": \"2013-05-01T03:12Z\",\n",
      "        \"sourceLocation\": \"\",\n",
      "        \"activeRegionNum\": null,\n",
      "        \"link\": \"https://webtools.ccmc.gsfc.nasa.gov/DONKI/view/CME/2349/-1\",\n",
      "        \"note\": \"\",\n",
      "        \"submissionTime\": \"2013-08-07T16:54Z\",\n",
      "        \"instruments\": [\n",
      "            {\n",
      "                \"displayName\": \"SOHO: LASCO/C2\"\n",
      "            },\n",
      "            {\n",
      "                \"displayName\": \"SOHO: LASCO/C3\"\n",
      "            },\n",
      "            {\n",
      "                \"displayName\": \"STEREO A: SECCHI/COR2\"\n",
      "            },\n",
      "            {\n",
      "                \"displayName\": \"STEREO B: SECCHI/COR2\"\n",
      "            }\n",
      "        ],\n",
      "        \"cmeAnalyses\": [\n",
      "            {\n",
      "                \"isMostAccurate\": true,\n",
      "                \"time21_5\": \"2013-05-01T07:07Z\",\n",
      "                \"latitude\": 12.0,\n",
      "                \"longitude\": -120.0,\n",
      "                \"halfAngle\": 36.0,\n",
      "                \"speed\": 860.0,\n",
      "                \"type\": \"C\",\n",
      "                \"featureCode\": \"null\",\n",
      "                \"imageType\": null,\n",
      "                \"measurementTechnique\": \"null\",\n",
      "                \"note\": \"\",\n",
      "                \"levelOfData\": 0,\n",
      "                \"tilt\": null,\n",
      "                \"minorHalfWidth\": null,\n",
      "                \"speedMeasuredAtHeight\": null,\n",
      "                \"submissionTime\": \"2013-08-07T16:54Z\",\n",
      "                \"link\": \"https://webtools.ccmc.gsfc.nasa.gov/DONKI/view/CMEAnalysis/2350/-1\",\n",
      "                \"enlilList\": [\n",
      "                    {\n",
      "                        \"modelCompletionTime\": \"2013-05-01T08:32Z\",\n",
      "                        \"au\": 2.0,\n",
      "                        \"estimatedShockArrivalTime\": null,\n",
      "                        \"estimatedDuration\": null,\n",
      "                        \"rmin_re\": null,\n",
      "                        \"kp_18\": null,\n",
      "                        \"kp_90\": null,\n",
      "                        \"kp_135\": null,\n",
      "                        \"kp_180\": null,\n",
      "                        \"isEarthGB\": false,\n",
      "                        \"link\": \"https://webtools.ccmc.gsfc.nasa.gov/DONKI/view/WSA-ENLIL/2348/-1\",\n",
      "                        \"impactList\": [\n",
      "                            {\n",
      "                                \"isGlancingBlow\": false,\n",
      "                                \"location\": \"STEREO B\",\n",
      "                                \"arrivalTime\": \"2013-05-04T06:16Z\"\n",
      "                            }\n",
      "                        ],\n",
      "                        \"cmeIDs\": [\n",
      "                            \"2013-05-01T03:12:00-CME-001\"\n",
      "                        ]\n",
      "                    }\n",
      "                ]\n",
      "            }\n",
      "        ],\n",
      "        \"linkedEvents\": [\n",
      "            {\n",
      "                \"activityID\": \"2013-05-04T04:52:00-IPS-001\"\n",
      "            }\n",
      "        ]\n",
      "    }\n",
      "]\n"
     ]
    }
   ],
   "source": [
    "# Preview the first result in JSON format\n",
    "# Use json.dumps with argument indent=4 to format data\n",
    "print(json.dumps(cme_json, indent=4))"
   ]
  },
  {
   "cell_type": "code",
   "execution_count": 6,
   "metadata": {},
   "outputs": [
    {
     "data": {
      "text/html": [
       "<div>\n",
       "<style scoped>\n",
       "    .dataframe tbody tr th:only-of-type {\n",
       "        vertical-align: middle;\n",
       "    }\n",
       "\n",
       "    .dataframe tbody tr th {\n",
       "        vertical-align: top;\n",
       "    }\n",
       "\n",
       "    .dataframe thead th {\n",
       "        text-align: right;\n",
       "    }\n",
       "</style>\n",
       "<table border=\"1\" class=\"dataframe\">\n",
       "  <thead>\n",
       "    <tr style=\"text-align: right;\">\n",
       "      <th></th>\n",
       "      <th>activityID</th>\n",
       "      <th>startTime</th>\n",
       "      <th>linkedEvents</th>\n",
       "    </tr>\n",
       "  </thead>\n",
       "  <tbody>\n",
       "    <tr>\n",
       "      <th>0</th>\n",
       "      <td>2013-05-01T03:12:00-CME-001</td>\n",
       "      <td>2013-05-01T03:12Z</td>\n",
       "      <td>[{'activityID': '2013-05-04T04:52:00-IPS-001'}]</td>\n",
       "    </tr>\n",
       "    <tr>\n",
       "      <th>1</th>\n",
       "      <td>2013-05-02T05:24:00-CME-001</td>\n",
       "      <td>2013-05-02T05:24Z</td>\n",
       "      <td>None</td>\n",
       "    </tr>\n",
       "    <tr>\n",
       "      <th>2</th>\n",
       "      <td>2013-05-02T14:36:00-CME-001</td>\n",
       "      <td>2013-05-02T14:36Z</td>\n",
       "      <td>None</td>\n",
       "    </tr>\n",
       "    <tr>\n",
       "      <th>3</th>\n",
       "      <td>2013-05-03T18:00:00-CME-001</td>\n",
       "      <td>2013-05-03T18:00Z</td>\n",
       "      <td>None</td>\n",
       "    </tr>\n",
       "    <tr>\n",
       "      <th>4</th>\n",
       "      <td>2013-05-03T22:36:00-CME-001</td>\n",
       "      <td>2013-05-03T22:36Z</td>\n",
       "      <td>[{'activityID': '2013-05-07T04:37:00-IPS-001'}]</td>\n",
       "    </tr>\n",
       "  </tbody>\n",
       "</table>\n",
       "</div>"
      ],
      "text/plain": [
       "                    activityID          startTime  \\\n",
       "0  2013-05-01T03:12:00-CME-001  2013-05-01T03:12Z   \n",
       "1  2013-05-02T05:24:00-CME-001  2013-05-02T05:24Z   \n",
       "2  2013-05-02T14:36:00-CME-001  2013-05-02T14:36Z   \n",
       "3  2013-05-03T18:00:00-CME-001  2013-05-03T18:00Z   \n",
       "4  2013-05-03T22:36:00-CME-001  2013-05-03T22:36Z   \n",
       "\n",
       "                                      linkedEvents  \n",
       "0  [{'activityID': '2013-05-04T04:52:00-IPS-001'}]  \n",
       "1                                             None  \n",
       "2                                             None  \n",
       "3                                             None  \n",
       "4  [{'activityID': '2013-05-07T04:37:00-IPS-001'}]  "
      ]
     },
     "execution_count": 6,
     "metadata": {},
     "output_type": "execute_result"
    }
   ],
   "source": [
    "# Convert cme_json to a Pandas DataFrame \n",
    "cme_df = pd.DataFrame(cme_json)\n",
    "# Keep only the columns: activityID, startTime, linkedEvents\n",
    "cme_df = cme_df[[\"activityID\", \"startTime\", \"linkedEvents\"]]\n"
   ]
  },
  {
   "cell_type": "code",
   "execution_count": 7,
   "metadata": {},
   "outputs": [
    {
     "data": {
      "text/html": [
       "<div>\n",
       "<style scoped>\n",
       "    .dataframe tbody tr th:only-of-type {\n",
       "        vertical-align: middle;\n",
       "    }\n",
       "\n",
       "    .dataframe tbody tr th {\n",
       "        vertical-align: top;\n",
       "    }\n",
       "\n",
       "    .dataframe thead th {\n",
       "        text-align: right;\n",
       "    }\n",
       "</style>\n",
       "<table border=\"1\" class=\"dataframe\">\n",
       "  <thead>\n",
       "    <tr style=\"text-align: right;\">\n",
       "      <th></th>\n",
       "      <th>activityID</th>\n",
       "      <th>startTime</th>\n",
       "      <th>linkedEvents</th>\n",
       "    </tr>\n",
       "  </thead>\n",
       "  <tbody>\n",
       "    <tr>\n",
       "      <th>0</th>\n",
       "      <td>2013-05-01T03:12:00-CME-001</td>\n",
       "      <td>2013-05-01T03:12Z</td>\n",
       "      <td>[{'activityID': '2013-05-04T04:52:00-IPS-001'}]</td>\n",
       "    </tr>\n",
       "    <tr>\n",
       "      <th>4</th>\n",
       "      <td>2013-05-03T22:36:00-CME-001</td>\n",
       "      <td>2013-05-03T22:36Z</td>\n",
       "      <td>[{'activityID': '2013-05-07T04:37:00-IPS-001'}]</td>\n",
       "    </tr>\n",
       "    <tr>\n",
       "      <th>7</th>\n",
       "      <td>2013-05-09T19:29:00-CME-001</td>\n",
       "      <td>2013-05-09T19:29Z</td>\n",
       "      <td>[{'activityID': '2013-05-12T23:30:00-IPS-001'}]</td>\n",
       "    </tr>\n",
       "    <tr>\n",
       "      <th>10</th>\n",
       "      <td>2013-05-13T02:54:00-CME-001</td>\n",
       "      <td>2013-05-13T02:54Z</td>\n",
       "      <td>[{'activityID': '2013-05-13T01:53:00-FLR-001'}...</td>\n",
       "    </tr>\n",
       "    <tr>\n",
       "      <th>13</th>\n",
       "      <td>2013-05-13T16:18:00-CME-001</td>\n",
       "      <td>2013-05-13T16:18Z</td>\n",
       "      <td>[{'activityID': '2013-05-13T15:40:00-FLR-001'}...</td>\n",
       "    </tr>\n",
       "  </tbody>\n",
       "</table>\n",
       "</div>"
      ],
      "text/plain": [
       "                     activityID          startTime  \\\n",
       "0   2013-05-01T03:12:00-CME-001  2013-05-01T03:12Z   \n",
       "4   2013-05-03T22:36:00-CME-001  2013-05-03T22:36Z   \n",
       "7   2013-05-09T19:29:00-CME-001  2013-05-09T19:29Z   \n",
       "10  2013-05-13T02:54:00-CME-001  2013-05-13T02:54Z   \n",
       "13  2013-05-13T16:18:00-CME-001  2013-05-13T16:18Z   \n",
       "\n",
       "                                         linkedEvents  \n",
       "0     [{'activityID': '2013-05-04T04:52:00-IPS-001'}]  \n",
       "4     [{'activityID': '2013-05-07T04:37:00-IPS-001'}]  \n",
       "7     [{'activityID': '2013-05-12T23:30:00-IPS-001'}]  \n",
       "10  [{'activityID': '2013-05-13T01:53:00-FLR-001'}...  \n",
       "13  [{'activityID': '2013-05-13T15:40:00-FLR-001'}...  "
      ]
     },
     "execution_count": 7,
     "metadata": {},
     "output_type": "execute_result"
    }
   ],
   "source": [
    "# Notice that the linkedEvents column allows us to identify the corresponding GST\n",
    "# Remove rows with missing 'linkedEvents' since we won't be able to assign these to GSTs\n"
   ]
  },
  {
   "cell_type": "code",
   "execution_count": 8,
   "metadata": {},
   "outputs": [
    {
     "data": {
      "text/html": [
       "<div>\n",
       "<style scoped>\n",
       "    .dataframe tbody tr th:only-of-type {\n",
       "        vertical-align: middle;\n",
       "    }\n",
       "\n",
       "    .dataframe tbody tr th {\n",
       "        vertical-align: top;\n",
       "    }\n",
       "\n",
       "    .dataframe thead th {\n",
       "        text-align: right;\n",
       "    }\n",
       "</style>\n",
       "<table border=\"1\" class=\"dataframe\">\n",
       "  <thead>\n",
       "    <tr style=\"text-align: right;\">\n",
       "      <th></th>\n",
       "      <th>activityID</th>\n",
       "      <th>startTime</th>\n",
       "      <th>linkedEvents</th>\n",
       "    </tr>\n",
       "  </thead>\n",
       "  <tbody>\n",
       "    <tr>\n",
       "      <th>0</th>\n",
       "      <td>2013-05-01T03:12:00-CME-001</td>\n",
       "      <td>2013-05-01T03:12Z</td>\n",
       "      <td>{'activityID': '2013-05-04T04:52:00-IPS-001'}</td>\n",
       "    </tr>\n",
       "    <tr>\n",
       "      <th>1</th>\n",
       "      <td>2013-05-03T22:36:00-CME-001</td>\n",
       "      <td>2013-05-03T22:36Z</td>\n",
       "      <td>{'activityID': '2013-05-07T04:37:00-IPS-001'}</td>\n",
       "    </tr>\n",
       "    <tr>\n",
       "      <th>2</th>\n",
       "      <td>2013-05-09T19:29:00-CME-001</td>\n",
       "      <td>2013-05-09T19:29Z</td>\n",
       "      <td>{'activityID': '2013-05-12T23:30:00-IPS-001'}</td>\n",
       "    </tr>\n",
       "    <tr>\n",
       "      <th>3</th>\n",
       "      <td>2013-05-13T02:54:00-CME-001</td>\n",
       "      <td>2013-05-13T02:54Z</td>\n",
       "      <td>{'activityID': '2013-05-13T01:53:00-FLR-001'}</td>\n",
       "    </tr>\n",
       "    <tr>\n",
       "      <th>4</th>\n",
       "      <td>2013-05-13T02:54:00-CME-001</td>\n",
       "      <td>2013-05-13T02:54Z</td>\n",
       "      <td>{'activityID': '2013-05-13T04:12:00-SEP-001'}</td>\n",
       "    </tr>\n",
       "  </tbody>\n",
       "</table>\n",
       "</div>"
      ],
      "text/plain": [
       "                    activityID          startTime  \\\n",
       "0  2013-05-01T03:12:00-CME-001  2013-05-01T03:12Z   \n",
       "1  2013-05-03T22:36:00-CME-001  2013-05-03T22:36Z   \n",
       "2  2013-05-09T19:29:00-CME-001  2013-05-09T19:29Z   \n",
       "3  2013-05-13T02:54:00-CME-001  2013-05-13T02:54Z   \n",
       "4  2013-05-13T02:54:00-CME-001  2013-05-13T02:54Z   \n",
       "\n",
       "                                    linkedEvents  \n",
       "0  {'activityID': '2013-05-04T04:52:00-IPS-001'}  \n",
       "1  {'activityID': '2013-05-07T04:37:00-IPS-001'}  \n",
       "2  {'activityID': '2013-05-12T23:30:00-IPS-001'}  \n",
       "3  {'activityID': '2013-05-13T01:53:00-FLR-001'}  \n",
       "4  {'activityID': '2013-05-13T04:12:00-SEP-001'}  "
      ]
     },
     "execution_count": 8,
     "metadata": {},
     "output_type": "execute_result"
    }
   ],
   "source": [
    "# Notice that the linkedEvents sometimes contains multiple events per row\n",
    "# Write a nested for loop that iterates first over each row in the cme DataFrame (using the index)\n",
    "# and then iterates over the values in 'linkedEvents' \n",
    "# and adds the elements individually to a list of dictionaries where each row is one element \n",
    "\n",
    "# Initialize an empty list to store the expanded rows\n",
    "\n",
    "\n",
    "# Iterate over each index in the DataFrame\n",
    "\n",
    "    # Iterate over each dictionary in the list\n",
    "    \n",
    "        # Append a new dictionary to the expanded_rows list for each dictionary item and corresponding 'activityID' and 'startTime' value\n",
    "      \n",
    "# Create a new DataFrame from the expanded rows\n"
   ]
  },
  {
   "cell_type": "code",
   "execution_count": 9,
   "metadata": {},
   "outputs": [
    {
     "data": {
      "text/plain": [
       "'2013-05-04T04:52:00-IPS-001'"
      ]
     },
     "execution_count": 9,
     "metadata": {},
     "output_type": "execute_result"
    }
   ],
   "source": [
    "# Create a function called extract_activityID_from_dict that takes a dict as input such as in linkedEvents\n",
    "# and verify below that it works as expected using one row from linkedEvents as an example\n",
    "# Be sure to use a try and except block to handle errors\n",
    "\n",
    "        # Log the error or print it for debugging\n",
    "\n",
    "\n"
   ]
  },
  {
   "cell_type": "code",
   "execution_count": 10,
   "metadata": {},
   "outputs": [
    {
     "data": {
      "text/html": [
       "<div>\n",
       "<style scoped>\n",
       "    .dataframe tbody tr th:only-of-type {\n",
       "        vertical-align: middle;\n",
       "    }\n",
       "\n",
       "    .dataframe tbody tr th {\n",
       "        vertical-align: top;\n",
       "    }\n",
       "\n",
       "    .dataframe thead th {\n",
       "        text-align: right;\n",
       "    }\n",
       "</style>\n",
       "<table border=\"1\" class=\"dataframe\">\n",
       "  <thead>\n",
       "    <tr style=\"text-align: right;\">\n",
       "      <th></th>\n",
       "      <th>activityID</th>\n",
       "      <th>startTime</th>\n",
       "      <th>linkedEvents</th>\n",
       "      <th>GST_ActivityID</th>\n",
       "    </tr>\n",
       "  </thead>\n",
       "  <tbody>\n",
       "    <tr>\n",
       "      <th>0</th>\n",
       "      <td>2013-05-01T03:12:00-CME-001</td>\n",
       "      <td>2013-05-01T03:12Z</td>\n",
       "      <td>{'activityID': '2013-05-04T04:52:00-IPS-001'}</td>\n",
       "      <td>2013-05-04T04:52:00-IPS-001</td>\n",
       "    </tr>\n",
       "    <tr>\n",
       "      <th>1</th>\n",
       "      <td>2013-05-03T22:36:00-CME-001</td>\n",
       "      <td>2013-05-03T22:36Z</td>\n",
       "      <td>{'activityID': '2013-05-07T04:37:00-IPS-001'}</td>\n",
       "      <td>2013-05-07T04:37:00-IPS-001</td>\n",
       "    </tr>\n",
       "    <tr>\n",
       "      <th>2</th>\n",
       "      <td>2013-05-09T19:29:00-CME-001</td>\n",
       "      <td>2013-05-09T19:29Z</td>\n",
       "      <td>{'activityID': '2013-05-12T23:30:00-IPS-001'}</td>\n",
       "      <td>2013-05-12T23:30:00-IPS-001</td>\n",
       "    </tr>\n",
       "    <tr>\n",
       "      <th>3</th>\n",
       "      <td>2013-05-13T02:54:00-CME-001</td>\n",
       "      <td>2013-05-13T02:54Z</td>\n",
       "      <td>{'activityID': '2013-05-13T01:53:00-FLR-001'}</td>\n",
       "      <td>2013-05-13T01:53:00-FLR-001</td>\n",
       "    </tr>\n",
       "    <tr>\n",
       "      <th>4</th>\n",
       "      <td>2013-05-13T02:54:00-CME-001</td>\n",
       "      <td>2013-05-13T02:54Z</td>\n",
       "      <td>{'activityID': '2013-05-13T04:12:00-SEP-001'}</td>\n",
       "      <td>2013-05-13T04:12:00-SEP-001</td>\n",
       "    </tr>\n",
       "  </tbody>\n",
       "</table>\n",
       "</div>"
      ],
      "text/plain": [
       "                    activityID          startTime  \\\n",
       "0  2013-05-01T03:12:00-CME-001  2013-05-01T03:12Z   \n",
       "1  2013-05-03T22:36:00-CME-001  2013-05-03T22:36Z   \n",
       "2  2013-05-09T19:29:00-CME-001  2013-05-09T19:29Z   \n",
       "3  2013-05-13T02:54:00-CME-001  2013-05-13T02:54Z   \n",
       "4  2013-05-13T02:54:00-CME-001  2013-05-13T02:54Z   \n",
       "\n",
       "                                    linkedEvents               GST_ActivityID  \n",
       "0  {'activityID': '2013-05-04T04:52:00-IPS-001'}  2013-05-04T04:52:00-IPS-001  \n",
       "1  {'activityID': '2013-05-07T04:37:00-IPS-001'}  2013-05-07T04:37:00-IPS-001  \n",
       "2  {'activityID': '2013-05-12T23:30:00-IPS-001'}  2013-05-12T23:30:00-IPS-001  \n",
       "3  {'activityID': '2013-05-13T01:53:00-FLR-001'}  2013-05-13T01:53:00-FLR-001  \n",
       "4  {'activityID': '2013-05-13T04:12:00-SEP-001'}  2013-05-13T04:12:00-SEP-001  "
      ]
     },
     "execution_count": 10,
     "metadata": {},
     "output_type": "execute_result"
    }
   ],
   "source": [
    "# Apply this function to each row in the 'linkedEvents' column (you can use apply() and a lambda function)\n",
    "# and create a new column called 'GST_ActivityID' using loc indexer:\n"
   ]
  },
  {
   "cell_type": "code",
   "execution_count": 11,
   "metadata": {},
   "outputs": [],
   "source": [
    "# Remove rows with missing GST_ActivityID, since we can't assign them to GSTs:\n"
   ]
  },
  {
   "cell_type": "code",
   "execution_count": 12,
   "metadata": {},
   "outputs": [
    {
     "name": "stdout",
     "output_type": "stream",
     "text": [
      "<class 'pandas.core.frame.DataFrame'>\n",
      "RangeIndex: 1807 entries, 0 to 1806\n",
      "Data columns (total 4 columns):\n",
      " #   Column          Non-Null Count  Dtype \n",
      "---  ------          --------------  ----- \n",
      " 0   activityID      1807 non-null   object\n",
      " 1   startTime       1807 non-null   object\n",
      " 2   linkedEvents    1807 non-null   object\n",
      " 3   GST_ActivityID  1807 non-null   object\n",
      "dtypes: object(4)\n",
      "memory usage: 56.6+ KB\n"
     ]
    }
   ],
   "source": [
    "# print out the datatype of each column in this DataFrame:\n"
   ]
  },
  {
   "cell_type": "code",
   "execution_count": 13,
   "metadata": {},
   "outputs": [
    {
     "name": "stdout",
     "output_type": "stream",
     "text": [
      "<class 'pandas.core.frame.DataFrame'>\n",
      "RangeIndex: 1807 entries, 0 to 1806\n",
      "Data columns (total 3 columns):\n",
      " #   Column          Non-Null Count  Dtype              \n",
      "---  ------          --------------  -----              \n",
      " 0   cmeID           1807 non-null   object             \n",
      " 1   startTime_CME   1807 non-null   datetime64[ns, UTC]\n",
      " 2   GST_ActivityID  1807 non-null   string             \n",
      "dtypes: datetime64[ns, UTC](1), object(1), string(1)\n",
      "memory usage: 42.5+ KB\n"
     ]
    }
   ],
   "source": [
    "# Convert the 'GST_ActivityID' column to string format \n",
    "\n",
    "# Convert startTime to datetime format  \n",
    "\n",
    "# Rename startTime to startTime_CME and activityID to cmeID\n",
    "\n",
    "# Drop linkedEvents\n",
    "\n",
    "# Verify that all steps were executed correctly\n"
   ]
  },
  {
   "cell_type": "code",
   "execution_count": 14,
   "metadata": {},
   "outputs": [
    {
     "data": {
      "text/html": [
       "<div>\n",
       "<style scoped>\n",
       "    .dataframe tbody tr th:only-of-type {\n",
       "        vertical-align: middle;\n",
       "    }\n",
       "\n",
       "    .dataframe tbody tr th {\n",
       "        vertical-align: top;\n",
       "    }\n",
       "\n",
       "    .dataframe thead th {\n",
       "        text-align: right;\n",
       "    }\n",
       "</style>\n",
       "<table border=\"1\" class=\"dataframe\">\n",
       "  <thead>\n",
       "    <tr style=\"text-align: right;\">\n",
       "      <th></th>\n",
       "      <th>cmeID</th>\n",
       "      <th>startTime_CME</th>\n",
       "      <th>GST_ActivityID</th>\n",
       "    </tr>\n",
       "  </thead>\n",
       "  <tbody>\n",
       "    <tr>\n",
       "      <th>21</th>\n",
       "      <td>2013-06-02T20:24:00-CME-001</td>\n",
       "      <td>2013-06-02 20:24:00+00:00</td>\n",
       "      <td>2013-06-07T03:00:00-GST-001</td>\n",
       "    </tr>\n",
       "    <tr>\n",
       "      <th>48</th>\n",
       "      <td>2013-09-29T22:40:00-CME-001</td>\n",
       "      <td>2013-09-29 22:40:00+00:00</td>\n",
       "      <td>2013-10-02T03:00:00-GST-001</td>\n",
       "    </tr>\n",
       "    <tr>\n",
       "      <th>90</th>\n",
       "      <td>2013-12-04T23:12:00-CME-001</td>\n",
       "      <td>2013-12-04 23:12:00+00:00</td>\n",
       "      <td>2013-12-08T00:00:00-GST-001</td>\n",
       "    </tr>\n",
       "    <tr>\n",
       "      <th>148</th>\n",
       "      <td>2014-02-16T14:15:00-CME-001</td>\n",
       "      <td>2014-02-16 14:15:00+00:00</td>\n",
       "      <td>2014-02-19T03:00:00-GST-001</td>\n",
       "    </tr>\n",
       "    <tr>\n",
       "      <th>151</th>\n",
       "      <td>2014-02-18T01:25:00-CME-001</td>\n",
       "      <td>2014-02-18 01:25:00+00:00</td>\n",
       "      <td>2014-02-20T03:00:00-GST-001</td>\n",
       "    </tr>\n",
       "  </tbody>\n",
       "</table>\n",
       "</div>"
      ],
      "text/plain": [
       "                           cmeID             startTime_CME  \\\n",
       "21   2013-06-02T20:24:00-CME-001 2013-06-02 20:24:00+00:00   \n",
       "48   2013-09-29T22:40:00-CME-001 2013-09-29 22:40:00+00:00   \n",
       "90   2013-12-04T23:12:00-CME-001 2013-12-04 23:12:00+00:00   \n",
       "148  2014-02-16T14:15:00-CME-001 2014-02-16 14:15:00+00:00   \n",
       "151  2014-02-18T01:25:00-CME-001 2014-02-18 01:25:00+00:00   \n",
       "\n",
       "                  GST_ActivityID  \n",
       "21   2013-06-07T03:00:00-GST-001  \n",
       "48   2013-10-02T03:00:00-GST-001  \n",
       "90   2013-12-08T00:00:00-GST-001  \n",
       "148  2014-02-19T03:00:00-GST-001  \n",
       "151  2014-02-20T03:00:00-GST-001  "
      ]
     },
     "execution_count": 14,
     "metadata": {},
     "output_type": "execute_result"
    }
   ],
   "source": [
    "# We are only interested in CMEs related to GSTs so keep only rows where the GST_ActivityID column contains 'GST'\n",
    "# use the method 'contains()' from the str library.  \n"
   ]
  },
  {
   "cell_type": "markdown",
   "metadata": {},
   "source": [
    "### GST Data"
   ]
  },
  {
   "cell_type": "code",
   "execution_count": 15,
   "metadata": {},
   "outputs": [],
   "source": [
    "# Set the base URL to NASA's DONKI API:\n",
    "base_url = \"https://api.nasa.gov/DONKI/\"\n",
    "\n",
    "# Set the specifier for Geomagnetic Storms (GST):\n",
    "GST = \"GST\"\n",
    "\n",
    "# Search for GSTs between a begin and end date\n",
    "startDate = \"2013-05-01\"\n",
    "end_date   = \"2024-05-01\"\n",
    "\n",
    "# Build URL for GST\n"
   ]
  },
  {
   "cell_type": "code",
   "execution_count": 16,
   "metadata": {},
   "outputs": [],
   "source": [
    "# Make a \"GET\" request for the GST URL and store it in a variable named gst_response\n"
   ]
  },
  {
   "cell_type": "code",
   "execution_count": 17,
   "metadata": {},
   "outputs": [
    {
     "name": "stdout",
     "output_type": "stream",
     "text": [
      "[\n",
      "    {\n",
      "        \"gstID\": \"2013-06-01T01:00:00-GST-001\",\n",
      "        \"startTime\": \"2013-06-01T01:00Z\",\n",
      "        \"allKpIndex\": [\n",
      "            {\n",
      "                \"observedTime\": \"2013-06-01T01:00Z\",\n",
      "                \"kpIndex\": 6.0,\n",
      "                \"source\": \"NOAA\"\n",
      "            }\n",
      "        ],\n",
      "        \"linkedEvents\": [\n",
      "            {\n",
      "                \"activityID\": \"2013-05-31T15:45:00-HSS-001\"\n",
      "            }\n",
      "        ],\n",
      "        \"link\": \"https://webtools.ccmc.gsfc.nasa.gov/DONKI/view/GST/326/-1\",\n",
      "        \"submissionTime\": \"2013-07-15T19:26Z\"\n",
      "    }\n",
      "]\n"
     ]
    }
   ],
   "source": [
    "# Convert the response variable to json and store it as a variable named gst_json\n",
    "\n",
    "# Preview the first result in JSON format\n",
    "# Use json.dumps with argument indent=4 to format data\n"
   ]
  },
  {
   "cell_type": "code",
   "execution_count": 18,
   "metadata": {},
   "outputs": [
    {
     "data": {
      "text/html": [
       "<div>\n",
       "<style scoped>\n",
       "    .dataframe tbody tr th:only-of-type {\n",
       "        vertical-align: middle;\n",
       "    }\n",
       "\n",
       "    .dataframe tbody tr th {\n",
       "        vertical-align: top;\n",
       "    }\n",
       "\n",
       "    .dataframe thead th {\n",
       "        text-align: right;\n",
       "    }\n",
       "</style>\n",
       "<table border=\"1\" class=\"dataframe\">\n",
       "  <thead>\n",
       "    <tr style=\"text-align: right;\">\n",
       "      <th></th>\n",
       "      <th>gstID</th>\n",
       "      <th>startTime</th>\n",
       "      <th>linkedEvents</th>\n",
       "    </tr>\n",
       "  </thead>\n",
       "  <tbody>\n",
       "    <tr>\n",
       "      <th>0</th>\n",
       "      <td>2013-06-01T01:00:00-GST-001</td>\n",
       "      <td>2013-06-01T01:00Z</td>\n",
       "      <td>[{'activityID': '2013-05-31T15:45:00-HSS-001'}]</td>\n",
       "    </tr>\n",
       "    <tr>\n",
       "      <th>1</th>\n",
       "      <td>2013-06-07T03:00:00-GST-001</td>\n",
       "      <td>2013-06-07T03:00Z</td>\n",
       "      <td>[{'activityID': '2013-06-02T20:24:00-CME-001'}]</td>\n",
       "    </tr>\n",
       "    <tr>\n",
       "      <th>2</th>\n",
       "      <td>2013-06-29T03:00:00-GST-001</td>\n",
       "      <td>2013-06-29T03:00Z</td>\n",
       "      <td>None</td>\n",
       "    </tr>\n",
       "    <tr>\n",
       "      <th>3</th>\n",
       "      <td>2013-10-02T03:00:00-GST-001</td>\n",
       "      <td>2013-10-02T03:00Z</td>\n",
       "      <td>[{'activityID': '2013-09-29T22:40:00-CME-001'}...</td>\n",
       "    </tr>\n",
       "    <tr>\n",
       "      <th>4</th>\n",
       "      <td>2013-12-08T00:00:00-GST-001</td>\n",
       "      <td>2013-12-08T00:00Z</td>\n",
       "      <td>[{'activityID': '2013-12-04T23:12:00-CME-001'}...</td>\n",
       "    </tr>\n",
       "  </tbody>\n",
       "</table>\n",
       "</div>"
      ],
      "text/plain": [
       "                         gstID          startTime  \\\n",
       "0  2013-06-01T01:00:00-GST-001  2013-06-01T01:00Z   \n",
       "1  2013-06-07T03:00:00-GST-001  2013-06-07T03:00Z   \n",
       "2  2013-06-29T03:00:00-GST-001  2013-06-29T03:00Z   \n",
       "3  2013-10-02T03:00:00-GST-001  2013-10-02T03:00Z   \n",
       "4  2013-12-08T00:00:00-GST-001  2013-12-08T00:00Z   \n",
       "\n",
       "                                        linkedEvents  \n",
       "0    [{'activityID': '2013-05-31T15:45:00-HSS-001'}]  \n",
       "1    [{'activityID': '2013-06-02T20:24:00-CME-001'}]  \n",
       "2                                               None  \n",
       "3  [{'activityID': '2013-09-29T22:40:00-CME-001'}...  \n",
       "4  [{'activityID': '2013-12-04T23:12:00-CME-001'}...  "
      ]
     },
     "execution_count": 18,
     "metadata": {},
     "output_type": "execute_result"
    }
   ],
   "source": [
    "# Convert gst_json to a Pandas DataFrame  \n",
    "\n",
    "# Keep only the columns: activityID, startTime, linkedEvents\n"
   ]
  },
  {
   "cell_type": "code",
   "execution_count": 19,
   "metadata": {},
   "outputs": [
    {
     "data": {
      "text/html": [
       "<div>\n",
       "<style scoped>\n",
       "    .dataframe tbody tr th:only-of-type {\n",
       "        vertical-align: middle;\n",
       "    }\n",
       "\n",
       "    .dataframe tbody tr th {\n",
       "        vertical-align: top;\n",
       "    }\n",
       "\n",
       "    .dataframe thead th {\n",
       "        text-align: right;\n",
       "    }\n",
       "</style>\n",
       "<table border=\"1\" class=\"dataframe\">\n",
       "  <thead>\n",
       "    <tr style=\"text-align: right;\">\n",
       "      <th></th>\n",
       "      <th>gstID</th>\n",
       "      <th>startTime</th>\n",
       "      <th>linkedEvents</th>\n",
       "    </tr>\n",
       "  </thead>\n",
       "  <tbody>\n",
       "    <tr>\n",
       "      <th>0</th>\n",
       "      <td>2013-06-01T01:00:00-GST-001</td>\n",
       "      <td>2013-06-01T01:00Z</td>\n",
       "      <td>[{'activityID': '2013-05-31T15:45:00-HSS-001'}]</td>\n",
       "    </tr>\n",
       "    <tr>\n",
       "      <th>1</th>\n",
       "      <td>2013-06-07T03:00:00-GST-001</td>\n",
       "      <td>2013-06-07T03:00Z</td>\n",
       "      <td>[{'activityID': '2013-06-02T20:24:00-CME-001'}]</td>\n",
       "    </tr>\n",
       "    <tr>\n",
       "      <th>3</th>\n",
       "      <td>2013-10-02T03:00:00-GST-001</td>\n",
       "      <td>2013-10-02T03:00Z</td>\n",
       "      <td>[{'activityID': '2013-09-29T22:40:00-CME-001'}...</td>\n",
       "    </tr>\n",
       "    <tr>\n",
       "      <th>4</th>\n",
       "      <td>2013-12-08T00:00:00-GST-001</td>\n",
       "      <td>2013-12-08T00:00Z</td>\n",
       "      <td>[{'activityID': '2013-12-04T23:12:00-CME-001'}...</td>\n",
       "    </tr>\n",
       "    <tr>\n",
       "      <th>5</th>\n",
       "      <td>2014-02-19T03:00:00-GST-001</td>\n",
       "      <td>2014-02-19T03:00Z</td>\n",
       "      <td>[{'activityID': '2014-02-16T14:15:00-CME-001'}...</td>\n",
       "    </tr>\n",
       "  </tbody>\n",
       "</table>\n",
       "</div>"
      ],
      "text/plain": [
       "                         gstID          startTime  \\\n",
       "0  2013-06-01T01:00:00-GST-001  2013-06-01T01:00Z   \n",
       "1  2013-06-07T03:00:00-GST-001  2013-06-07T03:00Z   \n",
       "3  2013-10-02T03:00:00-GST-001  2013-10-02T03:00Z   \n",
       "4  2013-12-08T00:00:00-GST-001  2013-12-08T00:00Z   \n",
       "5  2014-02-19T03:00:00-GST-001  2014-02-19T03:00Z   \n",
       "\n",
       "                                        linkedEvents  \n",
       "0    [{'activityID': '2013-05-31T15:45:00-HSS-001'}]  \n",
       "1    [{'activityID': '2013-06-02T20:24:00-CME-001'}]  \n",
       "3  [{'activityID': '2013-09-29T22:40:00-CME-001'}...  \n",
       "4  [{'activityID': '2013-12-04T23:12:00-CME-001'}...  \n",
       "5  [{'activityID': '2014-02-16T14:15:00-CME-001'}...  "
      ]
     },
     "execution_count": 19,
     "metadata": {},
     "output_type": "execute_result"
    }
   ],
   "source": [
    "# Notice that the linkedEvents column allows us to identify the corresponding CME\n",
    "# Remove rows with missing 'linkedEvents' since we won't be able to assign these to CME\n"
   ]
  },
  {
   "cell_type": "code",
   "execution_count": 20,
   "metadata": {},
   "outputs": [],
   "source": [
    "# Notice that the linkedEvents sometimes contains multiple events per row\n",
    "# Use the explode method to ensure that each row is one element. Ensure to reset the index and drop missing values.\n"
   ]
  },
  {
   "cell_type": "code",
   "execution_count": 21,
   "metadata": {},
   "outputs": [
    {
     "data": {
      "text/html": [
       "<div>\n",
       "<style scoped>\n",
       "    .dataframe tbody tr th:only-of-type {\n",
       "        vertical-align: middle;\n",
       "    }\n",
       "\n",
       "    .dataframe tbody tr th {\n",
       "        vertical-align: top;\n",
       "    }\n",
       "\n",
       "    .dataframe thead th {\n",
       "        text-align: right;\n",
       "    }\n",
       "</style>\n",
       "<table border=\"1\" class=\"dataframe\">\n",
       "  <thead>\n",
       "    <tr style=\"text-align: right;\">\n",
       "      <th></th>\n",
       "      <th>gstID</th>\n",
       "      <th>startTime</th>\n",
       "      <th>linkedEvents</th>\n",
       "      <th>CME_ActivityID</th>\n",
       "    </tr>\n",
       "  </thead>\n",
       "  <tbody>\n",
       "    <tr>\n",
       "      <th>0</th>\n",
       "      <td>2013-06-01T01:00:00-GST-001</td>\n",
       "      <td>2013-06-01T01:00Z</td>\n",
       "      <td>{'activityID': '2013-05-31T15:45:00-HSS-001'}</td>\n",
       "      <td>2013-05-31T15:45:00-HSS-001</td>\n",
       "    </tr>\n",
       "    <tr>\n",
       "      <th>1</th>\n",
       "      <td>2013-06-07T03:00:00-GST-001</td>\n",
       "      <td>2013-06-07T03:00Z</td>\n",
       "      <td>{'activityID': '2013-06-02T20:24:00-CME-001'}</td>\n",
       "      <td>2013-06-02T20:24:00-CME-001</td>\n",
       "    </tr>\n",
       "    <tr>\n",
       "      <th>2</th>\n",
       "      <td>2013-10-02T03:00:00-GST-001</td>\n",
       "      <td>2013-10-02T03:00Z</td>\n",
       "      <td>{'activityID': '2013-09-29T22:40:00-CME-001'}</td>\n",
       "      <td>2013-09-29T22:40:00-CME-001</td>\n",
       "    </tr>\n",
       "    <tr>\n",
       "      <th>3</th>\n",
       "      <td>2013-10-02T03:00:00-GST-001</td>\n",
       "      <td>2013-10-02T03:00Z</td>\n",
       "      <td>{'activityID': '2013-10-02T01:54:00-IPS-001'}</td>\n",
       "      <td>2013-10-02T01:54:00-IPS-001</td>\n",
       "    </tr>\n",
       "    <tr>\n",
       "      <th>4</th>\n",
       "      <td>2013-10-02T03:00:00-GST-001</td>\n",
       "      <td>2013-10-02T03:00Z</td>\n",
       "      <td>{'activityID': '2013-10-02T02:47:00-MPC-001'}</td>\n",
       "      <td>2013-10-02T02:47:00-MPC-001</td>\n",
       "    </tr>\n",
       "  </tbody>\n",
       "</table>\n",
       "</div>"
      ],
      "text/plain": [
       "                         gstID          startTime  \\\n",
       "0  2013-06-01T01:00:00-GST-001  2013-06-01T01:00Z   \n",
       "1  2013-06-07T03:00:00-GST-001  2013-06-07T03:00Z   \n",
       "2  2013-10-02T03:00:00-GST-001  2013-10-02T03:00Z   \n",
       "3  2013-10-02T03:00:00-GST-001  2013-10-02T03:00Z   \n",
       "4  2013-10-02T03:00:00-GST-001  2013-10-02T03:00Z   \n",
       "\n",
       "                                    linkedEvents               CME_ActivityID  \n",
       "0  {'activityID': '2013-05-31T15:45:00-HSS-001'}  2013-05-31T15:45:00-HSS-001  \n",
       "1  {'activityID': '2013-06-02T20:24:00-CME-001'}  2013-06-02T20:24:00-CME-001  \n",
       "2  {'activityID': '2013-09-29T22:40:00-CME-001'}  2013-09-29T22:40:00-CME-001  \n",
       "3  {'activityID': '2013-10-02T01:54:00-IPS-001'}  2013-10-02T01:54:00-IPS-001  \n",
       "4  {'activityID': '2013-10-02T02:47:00-MPC-001'}  2013-10-02T02:47:00-MPC-001  "
      ]
     },
     "execution_count": 21,
     "metadata": {},
     "output_type": "execute_result"
    }
   ],
   "source": [
    "# Apply the extract_activityID_from_dict function to each row in the 'linkedEvents' column (you can use apply() and a lambda function)\n",
    "# and create a new column called 'CME_ActivityID' using loc indexer:\n",
    "\n",
    "# Remove rows with missing CME_ActivityID, since we can't assign them to CMEs:\n"
   ]
  },
  {
   "cell_type": "code",
   "execution_count": 22,
   "metadata": {},
   "outputs": [
    {
     "name": "stdout",
     "output_type": "stream",
     "text": [
      "<class 'pandas.core.frame.DataFrame'>\n",
      "RangeIndex: 217 entries, 0 to 216\n",
      "Data columns (total 3 columns):\n",
      " #   Column          Non-Null Count  Dtype              \n",
      "---  ------          --------------  -----              \n",
      " 0   gstID           217 non-null    string             \n",
      " 1   startTime_GST   217 non-null    datetime64[ns, UTC]\n",
      " 2   CME_ActivityID  217 non-null    string             \n",
      "dtypes: datetime64[ns, UTC](1), string(2)\n",
      "memory usage: 5.2 KB\n"
     ]
    }
   ],
   "source": [
    "# Convert the 'CME_ActivityID' column to string format \n",
    "\n",
    "# Convert the 'gstID' column to string format \n",
    "\n",
    "# Convert startTime to datetime format  \n",
    "\n",
    "# Rename startTime to startTime_GST \n",
    "\n",
    "# Drop linkedEvents\n",
    "\n",
    "# Verify that all steps were executed correctly\n"
   ]
  },
  {
   "cell_type": "code",
   "execution_count": 23,
   "metadata": {},
   "outputs": [
    {
     "data": {
      "text/html": [
       "<div>\n",
       "<style scoped>\n",
       "    .dataframe tbody tr th:only-of-type {\n",
       "        vertical-align: middle;\n",
       "    }\n",
       "\n",
       "    .dataframe tbody tr th {\n",
       "        vertical-align: top;\n",
       "    }\n",
       "\n",
       "    .dataframe thead th {\n",
       "        text-align: right;\n",
       "    }\n",
       "</style>\n",
       "<table border=\"1\" class=\"dataframe\">\n",
       "  <thead>\n",
       "    <tr style=\"text-align: right;\">\n",
       "      <th></th>\n",
       "      <th>gstID</th>\n",
       "      <th>startTime_GST</th>\n",
       "      <th>CME_ActivityID</th>\n",
       "    </tr>\n",
       "  </thead>\n",
       "  <tbody>\n",
       "    <tr>\n",
       "      <th>1</th>\n",
       "      <td>2013-06-07T03:00:00-GST-001</td>\n",
       "      <td>2013-06-07 03:00:00+00:00</td>\n",
       "      <td>2013-06-02T20:24:00-CME-001</td>\n",
       "    </tr>\n",
       "    <tr>\n",
       "      <th>2</th>\n",
       "      <td>2013-10-02T03:00:00-GST-001</td>\n",
       "      <td>2013-10-02 03:00:00+00:00</td>\n",
       "      <td>2013-09-29T22:40:00-CME-001</td>\n",
       "    </tr>\n",
       "    <tr>\n",
       "      <th>5</th>\n",
       "      <td>2013-12-08T00:00:00-GST-001</td>\n",
       "      <td>2013-12-08 00:00:00+00:00</td>\n",
       "      <td>2013-12-04T23:12:00-CME-001</td>\n",
       "    </tr>\n",
       "    <tr>\n",
       "      <th>7</th>\n",
       "      <td>2014-02-19T03:00:00-GST-001</td>\n",
       "      <td>2014-02-19 03:00:00+00:00</td>\n",
       "      <td>2014-02-16T14:15:00-CME-001</td>\n",
       "    </tr>\n",
       "    <tr>\n",
       "      <th>9</th>\n",
       "      <td>2014-02-20T03:00:00-GST-001</td>\n",
       "      <td>2014-02-20 03:00:00+00:00</td>\n",
       "      <td>2014-02-18T01:25:00-CME-001</td>\n",
       "    </tr>\n",
       "  </tbody>\n",
       "</table>\n",
       "</div>"
      ],
      "text/plain": [
       "                         gstID             startTime_GST  \\\n",
       "1  2013-06-07T03:00:00-GST-001 2013-06-07 03:00:00+00:00   \n",
       "2  2013-10-02T03:00:00-GST-001 2013-10-02 03:00:00+00:00   \n",
       "5  2013-12-08T00:00:00-GST-001 2013-12-08 00:00:00+00:00   \n",
       "7  2014-02-19T03:00:00-GST-001 2014-02-19 03:00:00+00:00   \n",
       "9  2014-02-20T03:00:00-GST-001 2014-02-20 03:00:00+00:00   \n",
       "\n",
       "                CME_ActivityID  \n",
       "1  2013-06-02T20:24:00-CME-001  \n",
       "2  2013-09-29T22:40:00-CME-001  \n",
       "5  2013-12-04T23:12:00-CME-001  \n",
       "7  2014-02-16T14:15:00-CME-001  \n",
       "9  2014-02-18T01:25:00-CME-001  "
      ]
     },
     "execution_count": 23,
     "metadata": {},
     "output_type": "execute_result"
    }
   ],
   "source": [
    "# We are only interested in GSTs related to CMEs so keep only rows where the CME_ActivityID column contains 'CME'\n",
    "# use the method 'contains()' from the str library.  \n"
   ]
  },
  {
   "cell_type": "markdown",
   "metadata": {},
   "source": [
    "### Merge both datatsets"
   ]
  },
  {
   "cell_type": "code",
   "execution_count": 24,
   "metadata": {},
   "outputs": [
    {
     "data": {
      "text/html": [
       "<div>\n",
       "<style scoped>\n",
       "    .dataframe tbody tr th:only-of-type {\n",
       "        vertical-align: middle;\n",
       "    }\n",
       "\n",
       "    .dataframe tbody tr th {\n",
       "        vertical-align: top;\n",
       "    }\n",
       "\n",
       "    .dataframe thead th {\n",
       "        text-align: right;\n",
       "    }\n",
       "</style>\n",
       "<table border=\"1\" class=\"dataframe\">\n",
       "  <thead>\n",
       "    <tr style=\"text-align: right;\">\n",
       "      <th></th>\n",
       "      <th>gstID</th>\n",
       "      <th>startTime_GST</th>\n",
       "      <th>CME_ActivityID</th>\n",
       "      <th>cmeID</th>\n",
       "      <th>startTime_CME</th>\n",
       "      <th>GST_ActivityID</th>\n",
       "    </tr>\n",
       "  </thead>\n",
       "  <tbody>\n",
       "    <tr>\n",
       "      <th>0</th>\n",
       "      <td>2013-06-07T03:00:00-GST-001</td>\n",
       "      <td>2013-06-07 03:00:00+00:00</td>\n",
       "      <td>2013-06-02T20:24:00-CME-001</td>\n",
       "      <td>2013-06-02T20:24:00-CME-001</td>\n",
       "      <td>2013-06-02 20:24:00+00:00</td>\n",
       "      <td>2013-06-07T03:00:00-GST-001</td>\n",
       "    </tr>\n",
       "    <tr>\n",
       "      <th>1</th>\n",
       "      <td>2013-10-02T03:00:00-GST-001</td>\n",
       "      <td>2013-10-02 03:00:00+00:00</td>\n",
       "      <td>2013-09-29T22:40:00-CME-001</td>\n",
       "      <td>2013-09-29T22:40:00-CME-001</td>\n",
       "      <td>2013-09-29 22:40:00+00:00</td>\n",
       "      <td>2013-10-02T03:00:00-GST-001</td>\n",
       "    </tr>\n",
       "    <tr>\n",
       "      <th>2</th>\n",
       "      <td>2013-12-08T00:00:00-GST-001</td>\n",
       "      <td>2013-12-08 00:00:00+00:00</td>\n",
       "      <td>2013-12-04T23:12:00-CME-001</td>\n",
       "      <td>2013-12-04T23:12:00-CME-001</td>\n",
       "      <td>2013-12-04 23:12:00+00:00</td>\n",
       "      <td>2013-12-08T00:00:00-GST-001</td>\n",
       "    </tr>\n",
       "    <tr>\n",
       "      <th>3</th>\n",
       "      <td>2014-02-19T03:00:00-GST-001</td>\n",
       "      <td>2014-02-19 03:00:00+00:00</td>\n",
       "      <td>2014-02-16T14:15:00-CME-001</td>\n",
       "      <td>2014-02-16T14:15:00-CME-001</td>\n",
       "      <td>2014-02-16 14:15:00+00:00</td>\n",
       "      <td>2014-02-19T03:00:00-GST-001</td>\n",
       "    </tr>\n",
       "    <tr>\n",
       "      <th>4</th>\n",
       "      <td>2014-02-20T03:00:00-GST-001</td>\n",
       "      <td>2014-02-20 03:00:00+00:00</td>\n",
       "      <td>2014-02-18T01:25:00-CME-001</td>\n",
       "      <td>2014-02-18T01:25:00-CME-001</td>\n",
       "      <td>2014-02-18 01:25:00+00:00</td>\n",
       "      <td>2014-02-20T03:00:00-GST-001</td>\n",
       "    </tr>\n",
       "  </tbody>\n",
       "</table>\n",
       "</div>"
      ],
      "text/plain": [
       "                         gstID             startTime_GST  \\\n",
       "0  2013-06-07T03:00:00-GST-001 2013-06-07 03:00:00+00:00   \n",
       "1  2013-10-02T03:00:00-GST-001 2013-10-02 03:00:00+00:00   \n",
       "2  2013-12-08T00:00:00-GST-001 2013-12-08 00:00:00+00:00   \n",
       "3  2014-02-19T03:00:00-GST-001 2014-02-19 03:00:00+00:00   \n",
       "4  2014-02-20T03:00:00-GST-001 2014-02-20 03:00:00+00:00   \n",
       "\n",
       "                CME_ActivityID                        cmeID  \\\n",
       "0  2013-06-02T20:24:00-CME-001  2013-06-02T20:24:00-CME-001   \n",
       "1  2013-09-29T22:40:00-CME-001  2013-09-29T22:40:00-CME-001   \n",
       "2  2013-12-04T23:12:00-CME-001  2013-12-04T23:12:00-CME-001   \n",
       "3  2014-02-16T14:15:00-CME-001  2014-02-16T14:15:00-CME-001   \n",
       "4  2014-02-18T01:25:00-CME-001  2014-02-18T01:25:00-CME-001   \n",
       "\n",
       "              startTime_CME               GST_ActivityID  \n",
       "0 2013-06-02 20:24:00+00:00  2013-06-07T03:00:00-GST-001  \n",
       "1 2013-09-29 22:40:00+00:00  2013-10-02T03:00:00-GST-001  \n",
       "2 2013-12-04 23:12:00+00:00  2013-12-08T00:00:00-GST-001  \n",
       "3 2014-02-16 14:15:00+00:00  2014-02-19T03:00:00-GST-001  \n",
       "4 2014-02-18 01:25:00+00:00  2014-02-20T03:00:00-GST-001  "
      ]
     },
     "execution_count": 24,
     "metadata": {},
     "output_type": "execute_result"
    }
   ],
   "source": [
    "# Now merge both datasets using 'gstID' and 'CME_ActivityID' for gst and 'GST_ActivityID' and 'cmeID' for cme. Use the 'left_on' and 'right_on' specifiers.\n"
   ]
  },
  {
   "cell_type": "code",
   "execution_count": 25,
   "metadata": {},
   "outputs": [
    {
     "name": "stdout",
     "output_type": "stream",
     "text": [
      "<class 'pandas.core.frame.DataFrame'>\n",
      "RangeIndex: 67 entries, 0 to 66\n",
      "Data columns (total 6 columns):\n",
      " #   Column          Non-Null Count  Dtype              \n",
      "---  ------          --------------  -----              \n",
      " 0   gstID           67 non-null     string             \n",
      " 1   startTime_GST   67 non-null     datetime64[ns, UTC]\n",
      " 2   CME_ActivityID  67 non-null     object             \n",
      " 3   cmeID           67 non-null     object             \n",
      " 4   startTime_CME   67 non-null     datetime64[ns, UTC]\n",
      " 5   GST_ActivityID  67 non-null     string             \n",
      "dtypes: datetime64[ns, UTC](2), object(2), string(2)\n",
      "memory usage: 3.3+ KB\n"
     ]
    }
   ],
   "source": [
    "# Verify that the new DataFrame has the same number of rows as cme and gst\n"
   ]
  },
  {
   "cell_type": "markdown",
   "metadata": {},
   "source": [
    "### Computing the time it takes for a CME to cause a GST"
   ]
  },
  {
   "cell_type": "code",
   "execution_count": 26,
   "metadata": {},
   "outputs": [
    {
     "data": {
      "text/html": [
       "<div>\n",
       "<style scoped>\n",
       "    .dataframe tbody tr th:only-of-type {\n",
       "        vertical-align: middle;\n",
       "    }\n",
       "\n",
       "    .dataframe tbody tr th {\n",
       "        vertical-align: top;\n",
       "    }\n",
       "\n",
       "    .dataframe thead th {\n",
       "        text-align: right;\n",
       "    }\n",
       "</style>\n",
       "<table border=\"1\" class=\"dataframe\">\n",
       "  <thead>\n",
       "    <tr style=\"text-align: right;\">\n",
       "      <th></th>\n",
       "      <th>gstID</th>\n",
       "      <th>startTime_GST</th>\n",
       "      <th>CME_ActivityID</th>\n",
       "      <th>cmeID</th>\n",
       "      <th>startTime_CME</th>\n",
       "      <th>GST_ActivityID</th>\n",
       "      <th>timeDiff</th>\n",
       "    </tr>\n",
       "  </thead>\n",
       "  <tbody>\n",
       "    <tr>\n",
       "      <th>0</th>\n",
       "      <td>2013-06-07T03:00:00-GST-001</td>\n",
       "      <td>2013-06-07 03:00:00+00:00</td>\n",
       "      <td>2013-06-02T20:24:00-CME-001</td>\n",
       "      <td>2013-06-02T20:24:00-CME-001</td>\n",
       "      <td>2013-06-02 20:24:00+00:00</td>\n",
       "      <td>2013-06-07T03:00:00-GST-001</td>\n",
       "      <td>4 days 06:36:00</td>\n",
       "    </tr>\n",
       "    <tr>\n",
       "      <th>1</th>\n",
       "      <td>2013-10-02T03:00:00-GST-001</td>\n",
       "      <td>2013-10-02 03:00:00+00:00</td>\n",
       "      <td>2013-09-29T22:40:00-CME-001</td>\n",
       "      <td>2013-09-29T22:40:00-CME-001</td>\n",
       "      <td>2013-09-29 22:40:00+00:00</td>\n",
       "      <td>2013-10-02T03:00:00-GST-001</td>\n",
       "      <td>2 days 04:20:00</td>\n",
       "    </tr>\n",
       "    <tr>\n",
       "      <th>2</th>\n",
       "      <td>2013-12-08T00:00:00-GST-001</td>\n",
       "      <td>2013-12-08 00:00:00+00:00</td>\n",
       "      <td>2013-12-04T23:12:00-CME-001</td>\n",
       "      <td>2013-12-04T23:12:00-CME-001</td>\n",
       "      <td>2013-12-04 23:12:00+00:00</td>\n",
       "      <td>2013-12-08T00:00:00-GST-001</td>\n",
       "      <td>3 days 00:48:00</td>\n",
       "    </tr>\n",
       "    <tr>\n",
       "      <th>3</th>\n",
       "      <td>2014-02-19T03:00:00-GST-001</td>\n",
       "      <td>2014-02-19 03:00:00+00:00</td>\n",
       "      <td>2014-02-16T14:15:00-CME-001</td>\n",
       "      <td>2014-02-16T14:15:00-CME-001</td>\n",
       "      <td>2014-02-16 14:15:00+00:00</td>\n",
       "      <td>2014-02-19T03:00:00-GST-001</td>\n",
       "      <td>2 days 12:45:00</td>\n",
       "    </tr>\n",
       "    <tr>\n",
       "      <th>4</th>\n",
       "      <td>2014-02-20T03:00:00-GST-001</td>\n",
       "      <td>2014-02-20 03:00:00+00:00</td>\n",
       "      <td>2014-02-18T01:25:00-CME-001</td>\n",
       "      <td>2014-02-18T01:25:00-CME-001</td>\n",
       "      <td>2014-02-18 01:25:00+00:00</td>\n",
       "      <td>2014-02-20T03:00:00-GST-001</td>\n",
       "      <td>2 days 01:35:00</td>\n",
       "    </tr>\n",
       "  </tbody>\n",
       "</table>\n",
       "</div>"
      ],
      "text/plain": [
       "                         gstID             startTime_GST  \\\n",
       "0  2013-06-07T03:00:00-GST-001 2013-06-07 03:00:00+00:00   \n",
       "1  2013-10-02T03:00:00-GST-001 2013-10-02 03:00:00+00:00   \n",
       "2  2013-12-08T00:00:00-GST-001 2013-12-08 00:00:00+00:00   \n",
       "3  2014-02-19T03:00:00-GST-001 2014-02-19 03:00:00+00:00   \n",
       "4  2014-02-20T03:00:00-GST-001 2014-02-20 03:00:00+00:00   \n",
       "\n",
       "                CME_ActivityID                        cmeID  \\\n",
       "0  2013-06-02T20:24:00-CME-001  2013-06-02T20:24:00-CME-001   \n",
       "1  2013-09-29T22:40:00-CME-001  2013-09-29T22:40:00-CME-001   \n",
       "2  2013-12-04T23:12:00-CME-001  2013-12-04T23:12:00-CME-001   \n",
       "3  2014-02-16T14:15:00-CME-001  2014-02-16T14:15:00-CME-001   \n",
       "4  2014-02-18T01:25:00-CME-001  2014-02-18T01:25:00-CME-001   \n",
       "\n",
       "              startTime_CME               GST_ActivityID        timeDiff  \n",
       "0 2013-06-02 20:24:00+00:00  2013-06-07T03:00:00-GST-001 4 days 06:36:00  \n",
       "1 2013-09-29 22:40:00+00:00  2013-10-02T03:00:00-GST-001 2 days 04:20:00  \n",
       "2 2013-12-04 23:12:00+00:00  2013-12-08T00:00:00-GST-001 3 days 00:48:00  \n",
       "3 2014-02-16 14:15:00+00:00  2014-02-19T03:00:00-GST-001 2 days 12:45:00  \n",
       "4 2014-02-18 01:25:00+00:00  2014-02-20T03:00:00-GST-001 2 days 01:35:00  "
      ]
     },
     "execution_count": 26,
     "metadata": {},
     "output_type": "execute_result"
    }
   ],
   "source": [
    "# Compute the time diff between startTime_GST and startTime_CME by creating a new column called `timeDiff`.\n"
   ]
  },
  {
   "cell_type": "code",
   "execution_count": 27,
   "metadata": {},
   "outputs": [
    {
     "data": {
      "text/html": [
       "<div>\n",
       "<style scoped>\n",
       "    .dataframe tbody tr th:only-of-type {\n",
       "        vertical-align: middle;\n",
       "    }\n",
       "\n",
       "    .dataframe tbody tr th {\n",
       "        vertical-align: top;\n",
       "    }\n",
       "\n",
       "    .dataframe thead th {\n",
       "        text-align: right;\n",
       "    }\n",
       "</style>\n",
       "<table border=\"1\" class=\"dataframe\">\n",
       "  <thead>\n",
       "    <tr style=\"text-align: right;\">\n",
       "      <th></th>\n",
       "      <th>timeDiff</th>\n",
       "    </tr>\n",
       "  </thead>\n",
       "  <tbody>\n",
       "    <tr>\n",
       "      <th>count</th>\n",
       "      <td>67</td>\n",
       "    </tr>\n",
       "    <tr>\n",
       "      <th>mean</th>\n",
       "      <td>2 days 21:35:13.432835820</td>\n",
       "    </tr>\n",
       "    <tr>\n",
       "      <th>std</th>\n",
       "      <td>1 days 00:02:46.681279427</td>\n",
       "    </tr>\n",
       "    <tr>\n",
       "      <th>min</th>\n",
       "      <td>1 days 05:36:00</td>\n",
       "    </tr>\n",
       "    <tr>\n",
       "      <th>25%</th>\n",
       "      <td>2 days 03:12:00</td>\n",
       "    </tr>\n",
       "    <tr>\n",
       "      <th>50%</th>\n",
       "      <td>2 days 17:48:00</td>\n",
       "    </tr>\n",
       "    <tr>\n",
       "      <th>75%</th>\n",
       "      <td>3 days 12:17:00</td>\n",
       "    </tr>\n",
       "    <tr>\n",
       "      <th>max</th>\n",
       "      <td>6 days 03:00:00</td>\n",
       "    </tr>\n",
       "  </tbody>\n",
       "</table>\n",
       "</div>"
      ],
      "text/plain": [
       "                        timeDiff\n",
       "count                         67\n",
       "mean   2 days 21:35:13.432835820\n",
       "std    1 days 00:02:46.681279427\n",
       "min              1 days 05:36:00\n",
       "25%              2 days 03:12:00\n",
       "50%              2 days 17:48:00\n",
       "75%              3 days 12:17:00\n",
       "max              6 days 03:00:00"
      ]
     },
     "execution_count": 27,
     "metadata": {},
     "output_type": "execute_result"
    }
   ],
   "source": [
    "# Use describe() to compute the mean and median time \n",
    "# that it takes for a CME to cause a GST. \n"
   ]
  },
  {
   "cell_type": "markdown",
   "metadata": {},
   "source": [
    "### Exporting data in csv format"
   ]
  },
  {
   "cell_type": "code",
   "execution_count": 28,
   "metadata": {},
   "outputs": [],
   "source": [
    "# Export data to CSV without the index\n"
   ]
  }
 ],
 "metadata": {
  "kernelspec": {
   "display_name": "Python 3 (ipykernel)",
   "language": "python",
   "name": "python3"
  },
  "language_info": {
   "codemirror_mode": {
    "name": "ipython",
    "version": 3
   },
   "file_extension": ".py",
   "mimetype": "text/x-python",
   "name": "python",
   "nbconvert_exporter": "python",
   "pygments_lexer": "ipython3",
   "version": "3.12.4"
  },
  "varInspector": {
   "cols": {
    "lenName": 16,
    "lenType": 16,
    "lenVar": 40
   },
   "kernels_config": {
    "python": {
     "delete_cmd_postfix": "",
     "delete_cmd_prefix": "del ",
     "library": "var_list.py",
     "varRefreshCmd": "print(var_dic_list())"
    },
    "r": {
     "delete_cmd_postfix": ") ",
     "delete_cmd_prefix": "rm(",
     "library": "var_list.r",
     "varRefreshCmd": "cat(var_dic_list()) "
    }
   },
   "types_to_exclude": [
    "module",
    "function",
    "builtin_function_or_method",
    "instance",
    "_Feature"
   ],
   "window_display": false
  }
 },
 "nbformat": 4,
 "nbformat_minor": 4
}
